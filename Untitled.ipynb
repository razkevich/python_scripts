{
 "cells": [
  {
   "cell_type": "code",
   "execution_count": 31,
   "metadata": {
    "collapsed": false
   },
   "outputs": [],
   "source": [
    "def load_data(str_1,str_2):\n",
    "    global cot,brent\n",
    "    cot=Quandl.get(str_1, authtoken=\"3xoNoz5iCMsyH3NngTz5\")\n",
    "    brent=Quandl.get(str_2, authtoken=\"3xoNoz5iCMsyH3NngTz5\")"
   ]
  },
  {
   "cell_type": "code",
   "execution_count": 195,
   "metadata": {
    "collapsed": false
   },
   "outputs": [],
   "source": [
    "from sklearn.cross_validation import train_test_split\n",
    "from sklearn.svm import SVC\n",
    "import matplotlib as plt\n",
    "from sklearn.preprocessing import *\n",
    "import pandas as pd,random,Quandl\n",
    "from sklearn.metrics import confusion_matrix\n",
    "\n",
    "def svm_classify(threshold):\n",
    "    data=pd.DataFrame()\n",
    "    i=0\n",
    "    xprev=0\n",
    "    xprev2=0\n",
    "    for x in cot.columns[:-1]:\n",
    "        data[x]=cot[x]/pd.rolling_mean(cot[x],5)\n",
    "        data[x+'_polynomial2']=data[x]*data[x]\n",
    "        data[x+'_polynomial3']=data[x]*data[x]*data[x]\n",
    "        if (xprev!=0):\n",
    "            data[x+'_polynomial_x_2']=data[x]*data[xprev]\n",
    "        if (xprev2!=0):\n",
    "            data[x+'_polynomial_x_3']=data[x]*data[xprev2]*data[xprev]\n",
    "        i=i+1\n",
    "        xprev=x\n",
    "        xprev2=xprev\n",
    "    \n",
    "    data['return']=((brent.shift(-5).Settle/brent.shift(-1).Settle)-1)>0\n",
    "    data=data[8:].dropna(1)\n",
    "    x_train, x_test, y_train, y_test = train_test_split(data.iloc[:-1,:-1], data.iloc[:-1,-1], test_size=0.3)\n",
    "    gbc=SVC (kernel='linear',probability=True,C=100)\n",
    "    gbc.fit(x_train,y_train)\n",
    "    #min_max_scaler=MinMaxScaler()\n",
    "    #mms=min_max_scaler.fit(list(max(a) for a in gbc.predict_proba(x_train)))\n",
    "    pr=(list(max(a) for a in gbc.predict_proba(x_test)))\n",
    "    Y=pd.DataFrame()\n",
    "    Y['actual']=y_test\n",
    "    Y['predicted']=gbc.predict(x_test)\n",
    "    #Y['P']=mms.transform(list(max(a) for a in gbc.predict_proba(x_test)))\n",
    "    #Y_filtered=Y[Y.P>threshold]\n",
    "    cm=confusion_matrix(Y.actual,Y.predicted)\n",
    "    return [gbc.score(x_test,y_test),cm,'Prediction of UP is %s; P = %s' %(gbc.predict(data.iloc[-1:,:-1])[0],\n",
    "     list((max(x)) for x in gbc.predict_proba(data.iloc[-1:,:-1]))[0]\n",
    "     ),brent]"
   ]
  },
  {
   "cell_type": "code",
   "execution_count": 45,
   "metadata": {
    "collapsed": false
   },
   "outputs": [],
   "source": [
    "load_data(\"CFTC/BZC_FO_ALL\",\"SCF/ICE_B1_FW\")"
   ]
  },
  {
   "cell_type": "code",
   "execution_count": 198,
   "metadata": {
    "collapsed": false
   },
   "outputs": [
    {
     "name": "stdout",
     "output_type": "stream",
     "text": [
      "0.530303030303\n",
      "Prediction of UP is False; P = 0.514886872497\n",
      "[[22 23]\n",
      " [ 8 13]]\n"
     ]
    }
   ],
   "source": [
    "a=svm_classify(0)\n",
    "#a=svm_classify(\"CFTC/BZC_FO_ALL\",\"SCF/ICE_B1_FW\",0.55)\n",
    "#a=svm_classify(\"OFDP/FUTURE_COT_190\",\"CURRFX/USDRUB\",0.3)\n",
    "#plt.matshow(a[1])\n",
    "print(a[0])\n",
    "print(a[2])\n",
    "print(a[1])"
   ]
  },
  {
   "cell_type": "code",
   "execution_count": null,
   "metadata": {
    "collapsed": true
   },
   "outputs": [],
   "source": []
  }
 ],
 "metadata": {
  "kernelspec": {
   "display_name": "Python 2",
   "language": "python",
   "name": "python2"
  },
  "language_info": {
   "codemirror_mode": {
    "name": "ipython",
    "version": 2
   },
   "file_extension": ".py",
   "mimetype": "text/x-python",
   "name": "python",
   "nbconvert_exporter": "python",
   "pygments_lexer": "ipython2",
   "version": "2.7.10"
  }
 },
 "nbformat": 4,
 "nbformat_minor": 0
}
