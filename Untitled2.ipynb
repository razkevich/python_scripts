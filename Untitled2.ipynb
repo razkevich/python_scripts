{
 "cells": [
  {
   "cell_type": "code",
   "execution_count": 164,
   "metadata": {
    "collapsed": true
   },
   "outputs": [],
   "source": [
    "class Densifier(object):\n",
    "    def fit(self, X, y=None):\n",
    "        pass\n",
    "    def fit_transform(self, X, y=None):\n",
    "        return self.transform(X)\n",
    "    def transform(self, X, y=None):\n",
    "        return X.toarray()"
   ]
  },
  {
   "cell_type": "code",
   "execution_count": 165,
   "metadata": {
    "collapsed": false
   },
   "outputs": [],
   "source": [
    "import matplotlib.pyplot as plt\n",
    "import numpy as np\n",
    "def plot_confusion_matrix(cm, title='Confusion matrix', cmap=plt.cm.Blues):\n",
    "    plt.imshow(cm, interpolation='nearest', cmap=cmap)\n",
    "    plt.title(title)\n",
    "    plt.colorbar()\n",
    "   \n",
    "    plt.tight_layout()\n",
    "    plt.ylabel('True label')\n",
    "    plt.xlabel('Predicted label')"
   ]
  },
  {
   "cell_type": "code",
   "execution_count": 166,
   "metadata": {
    "collapsed": false
   },
   "outputs": [],
   "source": [
    "import pandas as pd\n",
    "from sklearn.svm import SVC\n",
    "from sklearn.metrics import classification_report\n",
    "from sklearn.cross_validation import train_test_split\n",
    "from sklearn.metrics import confusion_matrix\n",
    "from sklearn.feature_extraction.text import CountVectorizer\n",
    "from sklearn.feature_extraction.text import TfidfTransformer\n",
    "from sklearn.neighbors import NearestNeighbors\n",
    "from sklearn.linear_model import LogisticRegression\n",
    "from sklearn.tree import DecisionTreeClassifier,ExtraTreeClassifier\n",
    "from sklearn.ensemble import AdaBoostClassifier\n",
    "libra=pd.read_excel('c:\\\\2\\\\libra.xls')[['body','ticket_serv_id']].dropna().convert_objects()\n"
   ]
  },
  {
   "cell_type": "code",
   "execution_count": 167,
   "metadata": {
    "collapsed": false,
    "scrolled": false
   },
   "outputs": [],
   "source": [
    "vectorizer = CountVectorizer(min_df=1)\n",
    "transformer=TfidfTransformer()\n",
    "X=transformer.fit_transform(vectorizer.fit_transform(libra.body))\n",
    "Y=libra.ticket_serv_id"
   ]
  },
  {
   "cell_type": "code",
   "execution_count": 168,
   "metadata": {
    "collapsed": false
   },
   "outputs": [],
   "source": [
    "X_train, X_test, Y_train, Y_test = train_test_split(X, Y, test_size=0.2)"
   ]
  },
  {
   "cell_type": "code",
   "execution_count": 169,
   "metadata": {
    "collapsed": false
   },
   "outputs": [],
   "source": [
    "classifier=ExtraTreeClassifier()"
   ]
  },
  {
   "cell_type": "code",
   "execution_count": 170,
   "metadata": {
    "collapsed": false
   },
   "outputs": [
    {
     "data": {
      "text/plain": [
       "ExtraTreeClassifier(class_weight=None, criterion='gini', max_depth=None,\n",
       "          max_features='auto', max_leaf_nodes=None, min_samples_leaf=1,\n",
       "          min_samples_split=2, min_weight_fraction_leaf=0.0,\n",
       "          random_state=None, splitter='random')"
      ]
     },
     "execution_count": 170,
     "metadata": {},
     "output_type": "execute_result"
    }
   ],
   "source": [
    "classifier.fit(X_train,Y_train)"
   ]
  },
  {
   "cell_type": "code",
   "execution_count": 171,
   "metadata": {
    "collapsed": false,
    "scrolled": true
   },
   "outputs": [],
   "source": [
    "Y_pred=classifier.predict(X_test)"
   ]
  },
  {
   "cell_type": "code",
   "execution_count": 172,
   "metadata": {
    "collapsed": false
   },
   "outputs": [
    {
     "data": {
      "image/png": "[encoded data removed]",
      "text/plain": [
       "<matplotlib.figure.Figure at 0x190d6668>"
      ]
     },
     "metadata": {},
     "output_type": "display_data"
    }
   ],
   "source": [
    "%matplotlib inline\n",
    "\n",
    "plot_confusion_matrix(confusion_matrix(Y_test,Y_pred))"
   ]
  },
  {
   "cell_type": "code",
   "execution_count": 173,
   "metadata": {
    "collapsed": false
   },
   "outputs": [
    {
     "name": "stdout",
     "output_type": "stream",
     "text": [
      "             precision    recall  f1-score   support\n",
      "\n",
      "       56.0       0.35      0.36      0.36        22\n",
      "       59.0       0.33      0.11      0.17         9\n",
      "       60.0       0.50      0.41      0.45        32\n",
      "       61.0       0.00      0.00      0.00         2\n",
      "       64.0       0.00      0.00      0.00         0\n",
      "       65.0       0.25      0.33      0.29         3\n",
      "       66.0       0.00      0.00      0.00         4\n",
      "       67.0       1.00      0.50      0.67         2\n",
      "       69.0       0.00      0.00      0.00         1\n",
      "       70.0       0.00      0.00      0.00         0\n",
      "       77.0       0.00      0.00      0.00         1\n",
      "       81.0       0.03      0.17      0.05         6\n",
      "       82.0       0.33      0.39      0.36        23\n",
      "       83.0       0.40      0.50      0.44         4\n",
      "       84.0       1.00      0.67      0.80         3\n",
      "       85.0       0.75      0.75      0.75         4\n",
      "       86.0       0.00      0.00      0.00         3\n",
      "       87.0       0.75      0.86      0.80         7\n",
      "       88.0       0.50      1.00      0.67         1\n",
      "       89.0       0.00      0.00      0.00         1\n",
      "       92.0       0.75      0.27      0.40        11\n",
      "       94.0       0.48      0.61      0.54        18\n",
      "       96.0       1.00      1.00      1.00         1\n",
      "       97.0       1.00      1.00      1.00         2\n",
      "      101.0       0.38      0.26      0.31        42\n",
      "      102.0       0.45      0.64      0.53        22\n",
      "      103.0       0.00      0.00      0.00         1\n",
      "      104.0       0.00      0.00      0.00         2\n",
      "      105.0       0.00      0.00      0.00         1\n",
      "      106.0       0.00      0.00      0.00         2\n",
      "      108.0       0.00      0.00      0.00         3\n",
      "      111.0       0.75      0.38      0.50         8\n",
      "      112.0       0.00      0.00      0.00         3\n",
      "      113.0       0.62      0.62      0.62        24\n",
      "      114.0       0.00      0.00      0.00         1\n",
      "      115.0       0.00      0.00      0.00         2\n",
      "      116.0       0.00      0.00      0.00         1\n",
      "      117.0       0.00      0.00      0.00         1\n",
      "      118.0       0.00      0.00      0.00         0\n",
      "      119.0       0.00      0.00      0.00         1\n",
      "     1002.0       0.50      0.20      0.29         5\n",
      "     1025.0       0.18      0.60      0.27         5\n",
      "     1027.0       0.88      0.47      0.61        15\n",
      "     1032.0       0.00      0.00      0.00         2\n",
      "     1045.0       0.00      0.00      0.00         3\n",
      "     1046.0       1.00      1.00      1.00         1\n",
      "     1054.0       1.00      1.00      1.00         1\n",
      "     1056.0       0.00      0.00      0.00         3\n",
      "     1063.0       0.00      0.00      0.00         1\n",
      "\n",
      "avg / total       0.44      0.39      0.40       310\n",
      "\n"
     ]
    }
   ],
   "source": [
    "print(classification_report(Y_test,Y_pred))"
   ]
  },
  {
   "cell_type": "code",
   "execution_count": null,
   "metadata": {
    "collapsed": true
   },
   "outputs": [],
   "source": []
  }
 ],
 "metadata": {
  "kernelspec": {
   "display_name": "Python 2",
   "language": "python",
   "name": "python2"
  }
 },
 "nbformat": 4,
 "nbformat_minor": 0
}
